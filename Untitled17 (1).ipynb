{
 "cells": [
  {
   "cell_type": "code",
   "execution_count": 3,
   "id": "b60d2fdb-9369-44e0-9c48-b5964a2fe352",
   "metadata": {},
   "outputs": [
    {
     "name": "stdin",
     "output_type": "stream",
     "text": [
      "enter a 2\n",
      "enter b 6\n"
     ]
    },
    {
     "name": "stdout",
     "output_type": "stream",
     "text": [
      "largest: 6\n"
     ]
    }
   ],
   "source": [
    "a=int(input(\"enter a\"))\n",
    "b=int(input(\"enter b\"))\n",
    "if a>b:\n",
    "    print('largest:',a)\n",
    "elif a<b:\n",
    "    print('largest:',b)\n",
    "else:\n",
    "    print('print both' ,a,b)"
   ]
  },
  {
   "cell_type": "code",
   "execution_count": 5,
   "id": "2a682559-6b96-45bd-95b2-4440d0978aad",
   "metadata": {},
   "outputs": [
    {
     "name": "stdin",
     "output_type": "stream",
     "text": [
      "enter the number 22\n"
     ]
    },
    {
     "name": "stdout",
     "output_type": "stream",
     "text": [
      "positive number\n",
      "even\n"
     ]
    }
   ],
   "source": [
    "num=int(input('enter the number'))\n",
    "if num>0:\n",
    "    print(\"positive number\")\n",
    "    if num%2==0:\n",
    "        print('even')\n",
    "    else:\n",
    "        print('odd')\n",
    "else:\n",
    "    print(\"number is non positive\")"
   ]
  },
  {
   "cell_type": "code",
   "execution_count": 15,
   "id": "fbe40b54-e44f-4511-a559-d979ccdbb67c",
   "metadata": {},
   "outputs": [
    {
     "name": "stdin",
     "output_type": "stream",
     "text": [
      "enter the pin 1234\n"
     ]
    },
    {
     "name": "stdout",
     "output_type": "stream",
     "text": [
      "access granted\n"
     ]
    },
    {
     "name": "stdin",
     "output_type": "stream",
     "text": [
      "enter amount 3000\n"
     ]
    },
    {
     "name": "stdout",
     "output_type": "stream",
     "text": [
      "amount withdraw: 3000\n",
      "balance: 2000\n",
      "thank you banking with icici...!!!!\n"
     ]
    }
   ],
   "source": [
    "#atm using if else\n",
    "pin=int(input(\"enter the pin\"))\n",
    "spin=1234\n",
    "balance=5000\n",
    "if pin==spin:\n",
    "    print(\"access granted\")\n",
    "    withdraw=int(input(\"enter amount\"))\n",
    "    if withdraw>balance:\n",
    "        print('insufficient funds')\n",
    "    else:\n",
    "        print('amount withdraw:',withdraw)\n",
    "        print('balance:',balance-withdraw)\n",
    "        print('thank you banking with icici...!!!!') \n",
    "else:\n",
    "    print('access denied')\n",
    "    "
   ]
  },
  {
   "cell_type": "code",
   "execution_count": null,
   "id": "92acedc6-78f9-4f7e-964d-7ee8cc7b7957",
   "metadata": {},
   "outputs": [],
   "source": [
    "a=int(input('enter the number'))\n",
    "loop=0\n",
    "while loop<a:\n",
    "    print('maanas', end= ' ')\n",
    "    loop+=1"
   ]
  },
  {
   "cell_type": "code",
   "execution_count": null,
   "id": "327bb04a-b475-4cf7-b2c0-9aeea6ec3625",
   "metadata": {},
   "outputs": [],
   "source": []
  }
 ],
 "metadata": {
  "kernelspec": {
   "display_name": "Python 3 (ipykernel)",
   "language": "python",
   "name": "python3"
  },
  "language_info": {
   "codemirror_mode": {
    "name": "ipython",
    "version": 3
   },
   "file_extension": ".py",
   "mimetype": "text/x-python",
   "name": "python",
   "nbconvert_exporter": "python",
   "pygments_lexer": "ipython3",
   "version": "3.12.7"
  }
 },
 "nbformat": 4,
 "nbformat_minor": 5
}
